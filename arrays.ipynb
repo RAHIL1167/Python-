{
 "cells": [
  {
   "cell_type": "markdown",
   "metadata": {},
   "source": [
    "# Accepting array values from user"
   ]
  },
  {
   "cell_type": "code",
   "execution_count": 6,
   "metadata": {},
   "outputs": [
    {
     "name": "stdout",
     "output_type": "stream",
     "text": [
      "Enter no of values in array: 4\n",
      "enter the next value: 1\n",
      "enter the next value: 2\n",
      "enter the next value: 3\n",
      "enter the next value: 4\n"
     ]
    }
   ],
   "source": [
    "from array import *\n",
    "vals=array('i',[])\n",
    "a=int(input(\"Enter no of values in array: \"))\n",
    "for i in range(a):\n",
    "    z=int(input(\"enter the next value: \"))\n",
    "    vals.append(z)\n",
    "    "
   ]
  },
  {
   "cell_type": "markdown",
   "metadata": {},
   "source": [
    "# Searching the values"
   ]
  },
  {
   "cell_type": "code",
   "execution_count": 11,
   "metadata": {},
   "outputs": [
    {
     "name": "stdout",
     "output_type": "stream",
     "text": [
      "Enter no of values in array: 4\n",
      "enter the next value: 1\n",
      "enter the next value: 2\n",
      "enter the next value: 3\n",
      "enter the next value: 4\n",
      "Enter the values to be searched: 3\n",
      "2\n"
     ]
    }
   ],
   "source": [
    "from array import *\n",
    "vals=array('i',[])\n",
    "a=int(input(\"Enter no of values in array: \"))\n",
    "for i in range(a):\n",
    "    z=int(input(\"enter the next value: \"))\n",
    "    vals.append(z)\n",
    "    \n",
    "\n",
    "vals1=int(input(\"Enter the values to be searched: \"))\n",
    "k=0\n",
    "for j in vals:\n",
    "    if j==vals1:\n",
    "        print(k)\n",
    "        break\n",
    "        \n",
    "    k+=1"
   ]
  },
  {
   "cell_type": "code",
   "execution_count": 13,
   "metadata": {},
   "outputs": [
    {
     "name": "stdout",
     "output_type": "stream",
     "text": [
      "2\n"
     ]
    }
   ],
   "source": [
    "print(vals.index(vals1))"
   ]
  },
  {
   "cell_type": "markdown",
   "metadata": {},
   "source": [
    "When you import numpy you can work with 2d arrays and moreover you need not specify the type code of variable"
   ]
  },
  {
   "cell_type": "code",
   "execution_count": 16,
   "metadata": {},
   "outputs": [
    {
     "name": "stdout",
     "output_type": "stream",
     "text": [
      "[1 2 3 4 5 6]\n"
     ]
    }
   ],
   "source": [
    "from numpy import *\n",
    "\n",
    "arr=array([1,2,3,4,5,6])\n",
    "\n",
    "print(arr)"
   ]
  },
  {
   "cell_type": "markdown",
   "metadata": {},
   "source": [
    "# Ways of creating an array\n"
   ]
  },
  {
   "cell_type": "code",
   "execution_count": 18,
   "metadata": {},
   "outputs": [
    {
     "name": "stdout",
     "output_type": "stream",
     "text": [
      "[1 2 3]\n",
      "int32\n"
     ]
    }
   ],
   "source": [
    "a1=array([1,2,3])\n",
    "print(a1)\n",
    "print(a1.dtype)"
   ]
  },
  {
   "cell_type": "markdown",
   "metadata": {},
   "source": [
    "linspace()"
   ]
  },
  {
   "cell_type": "markdown",
   "metadata": {},
   "source": [
    "Linspace() does consists of 3 parameters first two start and stop values and third one is step function based on which array is equally divided"
   ]
  },
  {
   "cell_type": "code",
   "execution_count": 20,
   "metadata": {},
   "outputs": [
    {
     "name": "stdout",
     "output_type": "stream",
     "text": [
      "[ 0.   2.5  5.   7.5 10. ]\n"
     ]
    }
   ],
   "source": [
    "a2=linspace(0,10,5)\n",
    "print(a2)"
   ]
  },
  {
   "cell_type": "markdown",
   "metadata": {},
   "source": [
    "# Arange()"
   ]
  },
  {
   "cell_type": "code",
   "execution_count": 21,
   "metadata": {},
   "outputs": [
    {
     "name": "stdout",
     "output_type": "stream",
     "text": [
      "[ 1  3  5  7  9 11 13]\n"
     ]
    }
   ],
   "source": [
    "a3=arange(1,15,2)\n",
    "print(a3)"
   ]
  },
  {
   "cell_type": "markdown",
   "metadata": {},
   "source": [
    "Differenceof numbers would be the step value given from start to stop values"
   ]
  },
  {
   "cell_type": "markdown",
   "metadata": {},
   "source": [
    "# logspace"
   ]
  },
  {
   "cell_type": "code",
   "execution_count": 22,
   "metadata": {},
   "outputs": [
    {
     "name": "stdout",
     "output_type": "stream",
     "text": [
      "[1.00000000e+01 5.62341325e+10 3.16227766e+20 1.77827941e+30\n",
      " 1.00000000e+40]\n"
     ]
    }
   ],
   "source": [
    "a4= logspace(1,40,5)\n",
    "print(a4)"
   ]
  },
  {
   "cell_type": "markdown",
   "metadata": {},
   "source": [
    "# Copying an array"
   ]
  },
  {
   "cell_type": "code",
   "execution_count": 27,
   "metadata": {},
   "outputs": [
    {
     "name": "stdout",
     "output_type": "stream",
     "text": [
      "[ 0.84147098  0.90929743  0.14112001 -0.7568025  -0.95892427]\n",
      "[ 0.54030231 -0.41614684 -0.9899925  -0.65364362  0.28366219]\n",
      "[1.         1.41421356 1.73205081 2.         2.23606798]\n",
      "[ 6  7  8  9 10]\n"
     ]
    }
   ],
   "source": [
    "a5=array([1,2,3,4,5])\n",
    "print(sin(a5))\n",
    "print(cos(a5))\n",
    "print(sqrt(a5))\n",
    "a6=array([6,7,8,9,10])\n",
    "print(a6)"
   ]
  },
  {
   "cell_type": "code",
   "execution_count": 32,
   "metadata": {},
   "outputs": [
    {
     "name": "stdout",
     "output_type": "stream",
     "text": [
      "2140880202288\n",
      "2140863477920\n",
      "[1 2 3 4 5]\n",
      "[1 2 3 4 5]\n",
      "[1 2 3 4 5]\n",
      "[1 2 3 4 5]\n",
      "2140880202288\n",
      "2140880294176\n",
      "[1 2 3 4 5]\n",
      "[1 2 3 4 5]\n",
      "2140880202288\n",
      "2140880294576\n"
     ]
    }
   ],
   "source": [
    "print(id(a5))\n",
    "print(id(a6))\n",
    "a6=a5\n",
    "print(a5)\n",
    "print(a6)\n",
    "#shallowcopy\n",
    "a6=a5.view()\n",
    "print(a5)\n",
    "print(a6)\n",
    "print(id(a5))\n",
    "print(id(a6))\n",
    "#deepcopy\n",
    "a6=a5.copy()\n",
    "print(a5)\n",
    "print(a6)\n",
    "print(id(a5))\n",
    "print(id(a6))"
   ]
  },
  {
   "cell_type": "markdown",
   "metadata": {},
   "source": [
    "# Working with matrix\n"
   ]
  },
  {
   "cell_type": "code",
   "execution_count": 44,
   "metadata": {},
   "outputs": [
    {
     "name": "stdout",
     "output_type": "stream",
     "text": [
      "[[ 1  2  3 11 23 34]\n",
      " [ 4  5  6 12 13 14]]\n",
      "int32\n",
      "2\n",
      "12\n",
      "[ 1  2  3 11 23 34  4  5  6 12 13 14]\n",
      "[[ 1  2  3 11]\n",
      " [23 34  4  5]\n",
      " [ 6 12 13 14]]\n",
      "[[[ 1  2  3]\n",
      "  [11 23 34]]\n",
      "\n",
      " [[ 4  5  6]\n",
      "  [12 13 14]]]\n"
     ]
    }
   ],
   "source": [
    "a7=array([[1,2,3,11,23,34],[4,5,6,12,13,14]])\n",
    "print(a7)\n",
    "#gives the datatype\n",
    "print(a7.dtype)\n",
    "#gives the dimensions of array\n",
    "print(a7.ndim)\n",
    "#gives the size of the array\n",
    "print(a7.size)\n",
    "#converts a n dimensional array into single dimensional array\n",
    "a8=a7.flatten()\n",
    "print(a8)\n",
    "a9=a7.reshape(3,4)\n",
    "print(a9)\n",
    "a10=a7.reshape(2,2,3)\n",
    "print(a10)"
   ]
  },
  {
   "cell_type": "code",
   "execution_count": 50,
   "metadata": {},
   "outputs": [
    {
     "name": "stdout",
     "output_type": "stream",
     "text": [
      "[[1 2 3]\n",
      " [4 5 6]\n",
      " [7 8 9]]\n",
      "[1 5 9]\n",
      "9\n"
     ]
    }
   ],
   "source": [
    "m=matrix('1 2 3;4 5 6;7 8 9')\n",
    "print(m)\n",
    "print(diagonal(m))\n",
    "print(m.max())"
   ]
  },
  {
   "cell_type": "code",
   "execution_count": 52,
   "metadata": {},
   "outputs": [
    {
     "name": "stdout",
     "output_type": "stream",
     "text": [
      "[[ 30  36  42]\n",
      " [ 66  81  96]\n",
      " [102 126 150]]\n"
     ]
    }
   ],
   "source": [
    "m1=m\n",
    "m2=m*m1\n",
    "print(m2)"
   ]
  },
  {
   "cell_type": "code",
   "execution_count": null,
   "metadata": {},
   "outputs": [],
   "source": []
  }
 ],
 "metadata": {
  "kernelspec": {
   "display_name": "Python 3",
   "language": "python",
   "name": "python3"
  },
  "language_info": {
   "codemirror_mode": {
    "name": "ipython",
    "version": 3
   },
   "file_extension": ".py",
   "mimetype": "text/x-python",
   "name": "python",
   "nbconvert_exporter": "python",
   "pygments_lexer": "ipython3",
   "version": "3.7.3"
  }
 },
 "nbformat": 4,
 "nbformat_minor": 2
}
